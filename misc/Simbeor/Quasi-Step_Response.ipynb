{
 "cells": [
  {
   "cell_type": "markdown",
   "metadata": {},
   "source": [
    "# The Effect of Finite Model Bandwidth on Predicted Step Response\n",
    "\n",
    "Original author: David Banas <capn.freako@gmail.com>  \n",
    "Original date: July 15, 2016\n",
    "\n",
    "Copyright &#169; David Banas; all rights reserved World wide."
   ]
  },
  {
   "cell_type": "code",
   "execution_count": 1,
   "metadata": {
    "collapsed": false
   },
   "outputs": [
    {
     "name": "stdout",
     "output_type": "stream",
     "text": [
      "Notebook last run: Sat Jul 16 14:49:12 2016 GMT\n"
     ]
    }
   ],
   "source": [
    "import time;\n",
    "\n",
    "gmtime = time.asctime( time.gmtime(time.time()) )\n",
    "print \"Notebook last run:\", gmtime, \"GMT\"\n"
   ]
  },
  {
   "cell_type": "markdown",
   "metadata": {},
   "source": [
    "## Table of Contents <a name=\"toc\"/>\n",
    "\n",
    "[Introduction](#introduction)  \n",
    "[Results](#results)  \n",
    "[Observations](#observations)  \n",
    "[Conclusion](#conclusion)  \n",
    "[Acknowledgements](#acknowledgements)\n",
    "\n",
    "## Introduction <a name=\"introduction\"/>\n",
    "\n",
    "This [IPython](http://ipython.readthedocs.io/en/stable/) [Jupyter Notebook](http://jupyter.org) investigates the effect of finite bandwidth of channel models constructed analytically, in the frequency domain, on the estimated channel step response, calculated using the Fourier transform.\n",
    "\n",
    "## Results <a name=\"results\"/>\n",
    "\n",
    "I chose a simple single pole low pass response, as my test vehicle, because it's response is easy to predict and judge the correctness of."
   ]
  },
  {
   "cell_type": "code",
   "execution_count": 2,
   "metadata": {
    "collapsed": false
   },
   "outputs": [
    {
     "data": {
      "text/plain": [
       "(2550.4507034144863,\n",
       " 2569.5492965855137,\n",
       " -0.20000000000000001,\n",
       " 1.2000000000000002)"
      ]
     },
     "execution_count": 2,
     "metadata": {},
     "output_type": "execute_result"
    },
    {
     "data": {
      "image/png": "[encoded data removed]",
      "text/plain": [
       "<matplotlib.figure.Figure at 0x103f49310>"
      ]
     },
     "metadata": {},
     "output_type": "display_data"
    }
   ],
   "source": [
    "# Looking at the effect of finite model bandwidth on estimated step response.\n",
    "%matplotlib inline\n",
    "import matplotlib.pyplot as plt\n",
    "\n",
    "from numpy     import arange, pi, real, cumsum, where\n",
    "from numpy.fft import ifft, fftshift\n",
    "\n",
    "# Change these, to modify simulation.\n",
    "fc               = 100e6                                   # Corner frequency (Hz).\n",
    "nsamps           = 1024                                    # Number of samples in processing vectors.\n",
    "plot_timeunits   = 'ns'                                    # Currently, only 'ns' is supported.\n",
    "plot_timescalers = {\n",
    "    'ns' : 1.e9\n",
    "}\n",
    "\n",
    "# Don't change anything, below this line.\n",
    "risetime        = 1. / (2. * pi * fc)\n",
    "plot_halfwidth  = 6. * risetime\n",
    "plot_timescaler = plot_timescalers[plot_timeunits]\n",
    "\n",
    "edge_pos = 0.\n",
    "for i in range(1, 10, 2):\n",
    "    # Calculate the proper system vectors, for this loop iteration.\n",
    "    maxf = i * fc\n",
    "    t = arange(0, nsamps / (2. * maxf), 1. / (2. * maxf))  # Taking maxf = fNyquist (fN).\n",
    "    f = arange(0, maxf * 2., maxf * 2. / nsamps) - maxf    # [-fN, fN), with nsamps elements.\n",
    "    \n",
    "    # Caclulate the: frequency response, impulse response, and step response.\n",
    "    freq_resp = 1. / (1. + 1j * f / fc)                    # Single pole low pass response, in normalized freq. form.\n",
    "    h = real(fftshift(ifft(fftshift(freq_resp))))          # The inner-most fftshift is critical!\n",
    "    h /= sum(h)                                            # Ensures that step response ends at 1.0.\n",
    "    s = cumsum(h)\n",
    "    \n",
    "    # Line up the edges of the different results, for plotting convenience.\n",
    "    edge_ix = where(s > max(s) / 2.)[0][0]\n",
    "    edge_time = t[edge_ix]\n",
    "    if(edge_pos == 0.):                                    # We just got lucky that the first edge is also rightmost.\n",
    "        edge_pos = edge_time\n",
    "        time_shift = 0.\n",
    "    else:\n",
    "        time_shift = edge_time - edge_pos\n",
    "    plt.plot((t - time_shift) * plot_timescaler, s, label=\"BW = {} fc\".format(int(maxf / fc)))\n",
    "\n",
    "plt.xlabel('Time (ns)')\n",
    "plt.legend(loc='lower right')\n",
    "plt.title('Estimated Step Response vs. Model Bandwidth')\n",
    "plt.axis(xmin=((edge_pos - plot_halfwidth) * plot_timescaler), xmax=((edge_pos + plot_halfwidth) * plot_timescaler))\n"
   ]
  },
  {
   "cell_type": "markdown",
   "metadata": {},
   "source": [
    "## Observations <a name=\"observations\"/>\n",
    "\n",
    "- At first, I thought the jaggedness of the \"BW = 1 fc\" curve was due to an insufficient number of samples in the signal processing vector. However, increasing *nsamps* eight fold did not change the nature of the plot! Then, I remembered that the time domain resolution is a property of only the maximum frequency considered:\n",
    "\n",
    "$$\n",
    "\\Delta{t} = \\frac{1}{2f_{MAX}} \\qquad (1)\n",
    "$$\n",
    "\n",
    "- As expected, changing the value of *fc* does not change the nature of the plot, but only the magnitude of its horizontal axis. In particular, it does not change the point of diminishing returns, regarding model bandwidth. (See, below.)\n",
    "\n",
    "## Conclusion <a name=\"conclusion\"/>\n",
    "\n",
    "Judging from the results, above, it appears that a model bandwidth, at least, 5x the channel bandwidth is sufficient to get a reasonably accurate estimate of the channel step response. Beyond that, we see diminishing returns on our investment in increased model bandwidth.\n",
    "\n",
    "### Suggestions for Further Investigation\n",
    "\n",
    "1. Try more complex channel responses.\n",
    "1. Try making the signal vector, in the Python code, have constant frequency resolution, rather than constant length.\n",
    "\n",
    "## Acknowledgements <a name=\"acknowledgements\"/>\n",
    "\n",
    "I'd like to thank [Yuriy Shlepnev](shlepnev@simberian.com) for engaging me on this topic, and for his helpful advice, regarding improvements to my [PyBERT tool](https://github.com/capn-freako/PyBERT/wiki).\n"
   ]
  },
  {
   "cell_type": "code",
   "execution_count": null,
   "metadata": {
    "collapsed": true
   },
   "outputs": [],
   "source": []
  }
 ],
 "metadata": {
  "kernelspec": {
   "display_name": "Python 2",
   "language": "python",
   "name": "python2"
  },
  "language_info": {
   "codemirror_mode": {
    "name": "ipython",
    "version": 2
   },
   "file_extension": ".py",
   "mimetype": "text/x-python",
   "name": "python",
   "nbconvert_exporter": "python",
   "pygments_lexer": "ipython2",
   "version": "2.7.13"
  }
 },
 "nbformat": 4,
 "nbformat_minor": 0
}
