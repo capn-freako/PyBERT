{
 "cells": [
  {
   "cell_type": "markdown",
   "id": "367a77bc-ab6f-45a6-ae6d-92bc35b3f0bd",
   "metadata": {},
   "source": [
    "# PyBERT FEC Testing\n",
    "\n",
    "Original author: David Banas <capn.freako@gmail.com>  \n",
    "Original date: August 31, 2025\n",
    "\n",
    "Copyright &copy; 2025 David Banas; all rights reserved World wide."
   ]
  },
  {
   "cell_type": "markdown",
   "id": "38878a43-1301-49f8-a1ef-62da7889d08f",
   "metadata": {},
   "source": [
    "## Introduction\n",
    "\n",
    "Recently, a _Forward Error Correction_ (FEC) encoder/decoder pair was added to the _PyBERT_ Tx/Rx model, respectively.\n",
    "This [Jupyter](https://jupyter.org/) notebook was constructed to exercise the new FEC functionality in PyBERT.\n",
    "Specifically, it is intended to accomplish 2 things:\n",
    "\n",
    "1. Test the new _Viterbi_ based convolutional decoder against the existing channel pulse response decoder, comparing relative performance.\n",
    "2. Test the combination of both.\n"
   ]
  },
  {
   "cell_type": "markdown",
   "id": "6dbe091a-9e1f-4e9d-9213-7aa8b70f9c45",
   "metadata": {},
   "source": [
    "## Imports & Helper Functions\n",
    "\n",
    "In this section we import any required external Python modules and define any needed local helper functions."
   ]
  },
  {
   "cell_type": "code",
   "execution_count": 1,
   "id": "e0033cda-1afa-4528-81c3-a7ade672591a",
   "metadata": {
    "execution": {
     "iopub.execute_input": "2025-09-19T19:59:28.084684Z",
     "iopub.status.busy": "2025-09-19T19:59:28.084245Z",
     "iopub.status.idle": "2025-09-19T19:59:33.808351Z",
     "shell.execute_reply": "2025-09-19T19:59:33.808083Z",
     "shell.execute_reply.started": "2025-09-19T19:59:28.084656Z"
    }
   },
   "outputs": [
    {
     "name": "stdout",
     "output_type": "stream",
     "text": [
      "Ready.\n",
      "PyBERT Console Log\n",
      "\n",
      "[2025-09-19 15:59:29.579734]: PyBERT: Started.\n",
      "[2025-09-19 15:59:29.579747]: PyBERT: System: Darwin 23.6.0\n",
      "[2025-09-19 15:59:29.579751]: PyBERT: Python Version: 3.11.11\n",
      "[2025-09-19 15:59:29.579752]: PyBERT: PyBERT Version: 8.1.1\n",
      "[2025-09-19 15:59:29.579754]: PyBERT: PyAMI Version: 7.2.3\n",
      "[2025-09-19 15:59:29.579756]: PyBERT: PyChOpMarg Version: 3.1.0\n",
      "[2025-09-19 15:59:29.579758]: PyBERT: GUI Toolkit: qt\n",
      "[2025-09-19 15:59:29.579761]: PyBERT: Kiva Backend: image\n",
      "\n"
     ]
    }
   ],
   "source": [
    "%matplotlib inline\n",
    "\n",
    "from pathlib import Path\n",
    "from typing  import TypeAlias\n",
    "\n",
    "import numpy        as np\n",
    "import numpy.typing as npt\n",
    "import scipy        as sp\n",
    "\n",
    "from matplotlib    import pyplot as plt\n",
    "from pybert.pybert import PyBERT\n",
    "\n",
    "Rvec: TypeAlias = npt.NDArray[np.float64]\n",
    "\n",
    "# Instantiate and configure the DUT.\n",
    "thePyBERT = PyBERT(run_simulation=True, gui=False)\n",
    "print(thePyBERT.status)\n",
    "print(thePyBERT.console_log)\n",
    "cur_log_line = len(thePyBERT.console_log.split(\"\\n\"))\n",
    "\n",
    "def safe_log10(x: Rvec) -> Rvec:\n",
    "    \"\"\"\n",
    "    Take log10 of input argument, guarding against division by zero.\n",
    "    \"\"\"\n",
    "    y = np.where(x == 0, 1e-20 * np.ones(len(x)), x)\n",
    "    return np.log10(y)\n"
   ]
  },
  {
   "cell_type": "markdown",
   "id": "53824e4c-db7d-4802-b1b8-4c0e8e09e89f",
   "metadata": {},
   "source": [
    "## Performance vs. Loss\n",
    "\n",
    "In this section we evaluate the performance comparison between Viterbi and DFE as a function of channel loss.\n",
    "\n",
    "The Tx deemphasis and Rx CTLE peaking have been previously optimized for each channel length used here.\n",
    "And those optimum equalization settings have been saved to certain PyBERT configuration files, which are used in the code below.\n",
    "\n",
    "**Note:** The optimizations were performed under the assumption of `N_TAPS` DFE taps available.\n",
    "(i.e. - The optimization was done in such a way as to favor the DFE in the following comparisons.)\n"
   ]
  },
  {
   "cell_type": "code",
   "execution_count": 6,
   "id": "032f3f7e-53e0-44de-9107-c6a3b2c0e622",
   "metadata": {
    "execution": {
     "iopub.execute_input": "2025-09-19T20:13:38.628285Z",
     "iopub.status.busy": "2025-09-19T20:13:38.627699Z",
     "iopub.status.idle": "2025-09-19T20:14:46.255937Z",
     "shell.execute_reply": "2025-09-19T20:14:46.255539Z",
     "shell.execute_reply.started": "2025-09-19T20:13:38.628231Z"
    }
   },
   "outputs": [],
   "source": [
    "N_TAPS = 4\n",
    "CHNL_DIR = \"../ViterbiTesting\"\n",
    "\n",
    "bit_errs_isi = []\n",
    "bit_errs_fec = []\n",
    "chnl_losses  = []\n",
    "dfe_out_saved = False\n",
    "for cfg_file in [\"chnl_1p5.yaml\", \"chnl_1p75.yaml\", \"chnl_2p0.yaml\", \"chnl_2p25.yaml\"]:\n",
    "    # print(f\"Running {cfg_file}...\")\n",
    "    thePyBERT.load_configuration(Path(CHNL_DIR, cfg_file))\n",
    "    thePyBERT.use_agc = False\n",
    "    thePyBERT.debug   = False\n",
    "    thePyBERT.rn = 0.01\n",
    "    thePyBERT.pn = 0.000\n",
    "    thePyBERT.cout = 0.1\n",
    "    thePyBERT.cin  = 0.1\n",
    "    thePyBERT.nbits    = 20_000\n",
    "    thePyBERT.eye_bits = 10_000\n",
    "    thePyBERT.rx_use_viterbi     = True\n",
    "    thePyBERT.rx_viterbi_symbols = N_TAPS\n",
    "    thePyBERT.rx_viterbi_fec = False  # Doesn't get reset to `False` by the `*.yaml` files.\n",
    "    thePyBERT.simulate(initial_run=False)\n",
    "    bit_errs_isi.append(thePyBERT.n_errs)\n",
    "    if not dfe_out_saved:\n",
    "        dfe_out_isi = thePyBERT.dfe_out\n",
    "        t_isi = thePyBERT.t\n",
    "\n",
    "    thePyBERT.rx_viterbi_fec = True\n",
    "    thePyBERT.simulate(initial_run=False)\n",
    "    bit_errs_fec.append(thePyBERT.n_errs)\n",
    "    chnl_losses.append(np.abs(thePyBERT.chnl_H[np.where(thePyBERT.f >= (thePyBERT.bit_rate * 1e9 / 2))[0][0]]))\n",
    "    if not dfe_out_saved:\n",
    "        dfe_out_fec = thePyBERT.dfe_out\n",
    "        t_fec = thePyBERT.t\n",
    "        dfe_out_saved = True\n"
   ]
  },
  {
   "cell_type": "code",
   "execution_count": 8,
   "id": "267b793e-0c18-4598-957d-5b179f66de41",
   "metadata": {
    "execution": {
     "iopub.execute_input": "2025-09-19T20:19:47.760769Z",
     "iopub.status.busy": "2025-09-19T20:19:47.760146Z",
     "iopub.status.idle": "2025-09-19T20:19:47.831432Z",
     "shell.execute_reply": "2025-09-19T20:19:47.831130Z",
     "shell.execute_reply.started": "2025-09-19T20:19:47.760714Z"
    }
   },
   "outputs": [
    {
     "data": {
      "image/png": "[encoded data removed]",
      "text/plain": [
       "<Figure size 1000x400 with 1 Axes>"
      ]
     },
     "metadata": {},
     "output_type": "display_data"
    }
   ],
   "source": [
    "plt.figure(figsize=(10,4))\n",
    "plt.plot(-20 * np.log10(np.array(chnl_losses)),\n",
    "         safe_log10(np.array(bit_errs_isi) / 10_000), label=\"ISI\")\n",
    "plt.plot(-20 * np.log10(np.array(chnl_losses)),\n",
    "         safe_log10(np.array(bit_errs_fec) / 10_000), label=\"FEC\")\n",
    "plt.title(\"BER Comparison vs. Channel Loss\")\n",
    "plt.xlabel(\"Channel Loss (dB @ fN)\")\n",
    "plt.ylabel(\"log10(BER)\")\n",
    "plt.grid()\n",
    "plt.legend()\n",
    "plt.show()\n"
   ]
  },
  {
   "cell_type": "markdown",
   "id": "0c59bafa-5c93-4926-a6e4-8f8ddffb74e2",
   "metadata": {},
   "source": [
    "I think these channel loss values aren't going to work for the 2:1 FEC coding scheme I'm currently using.\n",
    "Let's look at the DFE output eyes, to see if that's true..."
   ]
  },
  {
   "cell_type": "code",
   "execution_count": 7,
   "id": "8b7cd58f-421d-458b-a579-18ff1431b843",
   "metadata": {
    "execution": {
     "iopub.execute_input": "2025-09-19T20:18:29.668378Z",
     "iopub.status.busy": "2025-09-19T20:18:29.667915Z",
     "iopub.status.idle": "2025-09-19T20:18:34.687089Z",
     "shell.execute_reply": "2025-09-19T20:18:34.686813Z",
     "shell.execute_reply.started": "2025-09-19T20:18:29.668348Z"
    }
   },
   "outputs": [
    {
     "data": {
      "text/plain": [
       "Text(0.5, 0, 'Time (ps)')"
      ]
     },
     "execution_count": 7,
     "metadata": {},
     "output_type": "execute_result"
    },
    {
     "data": {
      "image/png": "[encoded data removed]",
      "text/plain": [
       "<Figure size 1000x300 with 2 Axes>"
      ]
     },
     "metadata": {},
     "output_type": "display_data"
    }
   ],
   "source": [
    "nspui = thePyBERT.nspui\n",
    "\n",
    "plt.figure(figsize=(10, 3))\n",
    "\n",
    "plt.subplot(121)\n",
    "t = np.arange(2 * nspui) * t_isi[1]\n",
    "t_ps = t * 1e12\n",
    "start_ix = 1014\n",
    "max_start_ix = len(t_isi) - 2 * nspui\n",
    "while start_ix < max_start_ix:\n",
    "    plt.plot(t_ps, dfe_out_isi[start_ix: start_ix + 2 * nspui], \"b\")\n",
    "    start_ix += 2 * nspui\n",
    "plt.title(\"ISI DFE Output Eye (V)\")\n",
    "plt.xlabel(\"Time (ps)\")\n",
    "\n",
    "plt.subplot(122)\n",
    "t = np.arange(2 * nspui) * t_fec[1]\n",
    "t_ps = t * 1e12\n",
    "start_ix = 1014\n",
    "max_start_ix = len(t_fec) - 2 * nspui\n",
    "while start_ix < max_start_ix:\n",
    "    plt.plot(t_ps, dfe_out_fec[start_ix: start_ix + 2 * nspui], \"b\")\n",
    "    start_ix += 2 * nspui\n",
    "plt.title(\"FEC DFE Output Eye (V)\")\n",
    "plt.xlabel(\"Time (ps)\")\n",
    "\n",
    "plt.show()\n"
   ]
  },
  {
   "cell_type": "markdown",
   "id": "cc77f693-3554-4cf7-88e2-bbec3066f788",
   "metadata": {},
   "source": [
    "Yeah, the need to move to PAM-4, to support the 2:1 increase in number of transmitted bits, closes the eye completely."
   ]
  },
  {
   "cell_type": "markdown",
   "id": "facf0b79-cfbe-412a-a5ad-9842e8a427fb",
   "metadata": {},
   "source": [
    "## Performance vs. Noise\n",
    "\n",
    "In this section we evaluate the performance comparison between Viterbi and DFE as a function of channel noise.\n",
    "\n",
    "We'll use the 1.75m (33 dB) channel length, as it's the longest yielding 0 BER in both cases above."
   ]
  },
  {
   "cell_type": "code",
   "execution_count": null,
   "id": "98c158f9-ab72-4852-8c24-edab67d3864b",
   "metadata": {
    "execution": {
     "iopub.status.busy": "2025-09-19T20:00:39.438489Z",
     "iopub.status.idle": "2025-09-19T20:00:39.438606Z",
     "shell.execute_reply": "2025-09-19T20:00:39.438546Z",
     "shell.execute_reply.started": "2025-09-19T20:00:39.438541Z"
    }
   },
   "outputs": [],
   "source": [
    "bit_errs_dfe_noise     = []\n",
    "bit_errs_viterbi_noise = []\n",
    "noise_sigmas     = [0.01, 0.02, 0.05, 0.10]\n",
    "thePyBERT.load_configuration(Path(CHNL_DIR, \"chnl_1p75.yaml\"))\n",
    "thePyBERT.use_agc  = False\n",
    "thePyBERT.debug    = False\n",
    "thePyBERT.pn       = 0.000\n",
    "thePyBERT.cout     = 0.1\n",
    "thePyBERT.cin      = 0.1\n",
    "thePyBERT.nbits    = 20_000\n",
    "thePyBERT.eye_bits = 10_000\n",
    "for noise_sigma in noise_sigmas:\n",
    "    thePyBERT.rn = noise_sigma\n",
    "    thePyBERT.rx_use_viterbi     = False\n",
    "    thePyBERT.mod_type = \"NRZ\"\n",
    "    thePyBERT.simulate(initial_run=False)\n",
    "    bit_errs_dfe_noise.append(thePyBERT.bit_errs)\n",
    "    thePyBERT.rx_use_viterbi     = True\n",
    "    thePyBERT.rx_viterbi_symbols = N_TAPS\n",
    "    thePyBERT.rx_viterbi_fec = True  # This isn't actually getting reset to `False` by the `*.yaml` files.\n",
    "    thePyBERT.mod_type = \"PAM-4\"  # Necessary only because the `*.yaml` files are older than FEC.\n",
    "    thePyBERT.simulate(initial_run=False)\n",
    "    bit_errs_viterbi_noise.append(thePyBERT.bit_errs)\n"
   ]
  },
  {
   "cell_type": "code",
   "execution_count": null,
   "id": "080f24d7-c1fd-43cd-9444-2f771a9d37a8",
   "metadata": {
    "execution": {
     "iopub.status.busy": "2025-09-19T20:00:39.438839Z",
     "iopub.status.idle": "2025-09-19T20:00:39.438956Z",
     "shell.execute_reply": "2025-09-19T20:00:39.438900Z",
     "shell.execute_reply.started": "2025-09-19T20:00:39.438895Z"
    }
   },
   "outputs": [],
   "source": [
    "plt.plot(20 * safe_log10(np.array(noise_sigmas) / 1e-3),\n",
    "         safe_log10(np.array(bit_errs_dfe_noise) / 10_000), label=\"DFE\")\n",
    "plt.plot(20 * safe_log10(np.array(noise_sigmas) / 1e-3),\n",
    "         safe_log10(np.array(bit_errs_viterbi_noise) / 10_000), label=\"Viterbi\")\n",
    "plt.title(\"BER Comparison vs. Channel Noise\")\n",
    "plt.xlabel(\"Channel Noise (dBmV)\")\n",
    "plt.ylabel(\"log10(BER)\")\n",
    "plt.grid()\n",
    "plt.legend()\n",
    "plt.show()\n"
   ]
  },
  {
   "cell_type": "markdown",
   "id": "84d127bc-4b4a-4426-a8b2-5fdf9b5c1ef9",
   "metadata": {},
   "source": [
    "Again, we see the Viterbi decoder \"hold out\" longer before succumbing to the extreme channel noise and rising to meet the DFE at the BER ceiling."
   ]
  },
  {
   "cell_type": "markdown",
   "id": "a0763917-1c41-4e7d-97c4-3216a59ce9ca",
   "metadata": {},
   "source": [
    "## Performance vs. Ntaps\n",
    "\n",
    "In this section we evaluate the performance comparison between Viterbi and DFE as a function of the number of taps afforded the DFE.\n",
    "\n",
    "We'll use the 2.0m (37 dB) channel length, since the 1.75m (33 dB) channel length exhibits no errors, even with only a single DFE tap enabled.\n",
    "We'll set the noise level to its original minimum value, in order to maximize the relative effect of our choice of number of taps.\n",
    "And we'll keep the Viterbi trellis depth equal to the number of DFE taps, to get as close as we can to an \"apples-to-apples\" comparison."
   ]
  },
  {
   "cell_type": "code",
   "execution_count": null,
   "id": "ba0cc1f3-78e4-4a0e-84ca-c113228e7d5e",
   "metadata": {
    "execution": {
     "iopub.status.busy": "2025-09-19T20:00:39.439285Z",
     "iopub.status.idle": "2025-09-19T20:00:39.439388Z",
     "shell.execute_reply": "2025-09-19T20:00:39.439335Z",
     "shell.execute_reply.started": "2025-09-19T20:00:39.439330Z"
    }
   },
   "outputs": [],
   "source": [
    "bit_errs_dfe_taps     = []\n",
    "bit_errs_viterbi_taps = []\n",
    "n_tapss = [2, 3, 4]\n",
    "thePyBERT.load_configuration(Path(CHNL_DIR, \"chnl_2p0.yaml\"))\n",
    "thePyBERT.use_agc  = False\n",
    "thePyBERT.debug    = False\n",
    "thePyBERT.rn       = 0.005\n",
    "thePyBERT.pn       = 0.000\n",
    "thePyBERT.cout     = 0.1\n",
    "thePyBERT.cin      = 0.1\n",
    "thePyBERT.nbits    = 20_000\n",
    "thePyBERT.eye_bits = 10_000\n",
    "for tap_tuner in thePyBERT.dfe_tap_tuners:\n",
    "    tap_tuner.enabled = False\n",
    "for n_taps in n_tapss:\n",
    "    thePyBERT.dfe_tap_tuners[n_taps - 1].enabled = True  # Only works if `n_tapss` = [1, 2, 3, ...]!\n",
    "    thePyBERT.rx_use_viterbi     = False\n",
    "    thePyBERT.mod_type = \"NRZ\"\n",
    "    thePyBERT.simulate(initial_run=False)\n",
    "    bit_errs_dfe_taps.append(thePyBERT.bit_errs)\n",
    "    thePyBERT.rx_use_viterbi     = True\n",
    "    thePyBERT.rx_viterbi_symbols = n_taps\n",
    "    thePyBERT.rx_viterbi_fec = True  # This isn't actually getting reset to `False` by the `*.yaml` files.\n",
    "    thePyBERT.mod_type = \"PAM-4\"  # Necessary only because the `*.yaml` files are older than FEC.\n",
    "    thePyBERT.simulate(initial_run=False)\n",
    "    bit_errs_viterbi_taps.append(thePyBERT.bit_errs)\n"
   ]
  },
  {
   "cell_type": "code",
   "execution_count": null,
   "id": "26c40953-de00-458e-b5ff-5677271881d3",
   "metadata": {
    "execution": {
     "iopub.status.busy": "2025-09-19T20:00:39.439753Z",
     "iopub.status.idle": "2025-09-19T20:00:39.439866Z",
     "shell.execute_reply": "2025-09-19T20:00:39.439809Z",
     "shell.execute_reply.started": "2025-09-19T20:00:39.439804Z"
    }
   },
   "outputs": [],
   "source": [
    "plt.plot(n_tapss, safe_log10(np.array(bit_errs_dfe_taps) / 10_000), label=\"DFE\")\n",
    "plt.plot(n_tapss, safe_log10(np.array(bit_errs_viterbi_taps) / 10_000), label=\"Viterbi\")\n",
    "plt.title(\"BER Comparison vs. # of DFE Taps\")\n",
    "plt.xlabel(\"# of DFE Taps\")\n",
    "plt.ylabel(\"log10(BER)\")\n",
    "plt.grid()\n",
    "plt.legend()\n",
    "plt.show()\n"
   ]
  },
  {
   "cell_type": "markdown",
   "id": "5c24ba86-64d4-4928-aa23-6c3b6b8a81ae",
   "metadata": {},
   "source": [
    "Once again, we find that the Viterbi decoder is a more robust alternative.\n",
    "We see its BER fall to our measurement floor with a trellis depth of only 2, whereas the DFE is still operating up at the BER ceiling, even with 4 taps enabled!"
   ]
  },
  {
   "cell_type": "markdown",
   "id": "3d07d73d-cfeb-46cf-a399-32c594234401",
   "metadata": {},
   "source": [
    "## Conclusion\n",
    "\n",
    "I think the simple 2:1 FEC encoding I'm using is inappropriate for wireline (i.e. - baseband) transmission.\n",
    "That TI chip is probably intended for wireless usage, where the I/Q channels can be leveraged, to transmit both \"g\"-bits simultaneously w/ no increase in baseband bandwidth."
   ]
  },
  {
   "cell_type": "code",
   "execution_count": null,
   "id": "74bbbbda-0a28-4fbf-b3d3-233893417fef",
   "metadata": {},
   "outputs": [],
   "source": []
  }
 ],
 "metadata": {
  "kernelspec": {
   "display_name": "Python 3 (ipykernel)",
   "language": "python",
   "name": "python3"
  },
  "language_info": {
   "codemirror_mode": {
    "name": "ipython",
    "version": 3
   },
   "file_extension": ".py",
   "mimetype": "text/x-python",
   "name": "python",
   "nbconvert_exporter": "python",
   "pygments_lexer": "ipython3",
   "version": "3.11.11"
  }
 },
 "nbformat": 4,
 "nbformat_minor": 5
}
